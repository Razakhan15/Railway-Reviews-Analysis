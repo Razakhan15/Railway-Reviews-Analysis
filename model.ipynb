{
 "cells": [
  {
   "cell_type": "code",
   "execution_count": 1,
   "id": "ba998ad1-22ba-4298-993d-e9c67d4c6e7f",
   "metadata": {},
   "outputs": [],
   "source": [
    "import pandas as pd\n",
    "import numpy as np\n",
    "import matplotlib.pyplot as plt\n",
    "import seaborn as sns\n",
    "plt.style.use('ggplot')\n",
    "import nltk\n",
    "import re"
   ]
  },
  {
   "cell_type": "code",
   "execution_count": 2,
   "id": "567e88c0-9755-47fc-8f3f-21115a1894d6",
   "metadata": {},
   "outputs": [],
   "source": [
    "df = pd.read_csv('./train.csv', encoding ='latin1')"
   ]
  },
  {
   "cell_type": "code",
   "execution_count": 3,
   "id": "395ceedf-2589-42ed-baf5-1f74191704d4",
   "metadata": {},
   "outputs": [
    {
     "data": {
      "text/html": [
       "<div>\n",
       "<style scoped>\n",
       "    .dataframe tbody tr th:only-of-type {\n",
       "        vertical-align: middle;\n",
       "    }\n",
       "\n",
       "    .dataframe tbody tr th {\n",
       "        vertical-align: top;\n",
       "    }\n",
       "\n",
       "    .dataframe thead th {\n",
       "        text-align: right;\n",
       "    }\n",
       "</style>\n",
       "<table border=\"1\" class=\"dataframe\">\n",
       "  <thead>\n",
       "    <tr style=\"text-align: right;\">\n",
       "      <th></th>\n",
       "      <th>Item ID</th>\n",
       "      <th>Sentiment</th>\n",
       "      <th>SentimentText</th>\n",
       "    </tr>\n",
       "  </thead>\n",
       "  <tbody>\n",
       "    <tr>\n",
       "      <th>0</th>\n",
       "      <td>1</td>\n",
       "      <td>0</td>\n",
       "      <td>@RailMinIndia My PNR is 8348062961, I am in wa...</td>\n",
       "    </tr>\n",
       "    <tr>\n",
       "      <th>1</th>\n",
       "      <td>2</td>\n",
       "      <td>0</td>\n",
       "      <td>@sureshpprabhu @RailMinIndia AC not working in...</td>\n",
       "    </tr>\n",
       "    <tr>\n",
       "      <th>2</th>\n",
       "      <td>3</td>\n",
       "      <td>0</td>\n",
       "      <td>@RailMinIndia I'm traveling to chennai by trai...</td>\n",
       "    </tr>\n",
       "    <tr>\n",
       "      <th>3</th>\n",
       "      <td>4</td>\n",
       "      <td>5</td>\n",
       "      <td>@RailMinIndia irctc is not responding at the t...</td>\n",
       "    </tr>\n",
       "    <tr>\n",
       "      <th>4</th>\n",
       "      <td>5</td>\n",
       "      <td>7</td>\n",
       "      <td>@DRMbhopal @RailMinIndia @sanjaygupta2012 @drm...</td>\n",
       "    </tr>\n",
       "  </tbody>\n",
       "</table>\n",
       "</div>"
      ],
      "text/plain": [
       "   Item ID  Sentiment                                      SentimentText\n",
       "0        1          0  @RailMinIndia My PNR is 8348062961, I am in wa...\n",
       "1        2          0  @sureshpprabhu @RailMinIndia AC not working in...\n",
       "2        3          0  @RailMinIndia I'm traveling to chennai by trai...\n",
       "3        4          5  @RailMinIndia irctc is not responding at the t...\n",
       "4        5          7  @DRMbhopal @RailMinIndia @sanjaygupta2012 @drm..."
      ]
     },
     "execution_count": 3,
     "metadata": {},
     "output_type": "execute_result"
    }
   ],
   "source": [
    "df.head()"
   ]
  },
  {
   "cell_type": "code",
   "execution_count": 4,
   "id": "d517a784-c720-4964-98ae-81e49d92df8b",
   "metadata": {},
   "outputs": [
    {
     "data": {
      "text/plain": [
       "(1366, 3)"
      ]
     },
     "execution_count": 4,
     "metadata": {},
     "output_type": "execute_result"
    }
   ],
   "source": [
    "df.shape"
   ]
  },
  {
   "cell_type": "code",
   "execution_count": 5,
   "id": "d8fc7732-a943-4659-87fc-244c84dc6396",
   "metadata": {},
   "outputs": [],
   "source": [
    "df = df[~df['Sentiment'].isin([6, 7])]"
   ]
  },
  {
   "cell_type": "code",
   "execution_count": 6,
   "id": "f6dc765d-be68-4fb3-94d0-71a2ee596d25",
   "metadata": {},
   "outputs": [
    {
     "data": {
      "text/plain": [
       "(1068, 3)"
      ]
     },
     "execution_count": 6,
     "metadata": {},
     "output_type": "execute_result"
    }
   ],
   "source": [
    "df.shape"
   ]
  },
  {
   "cell_type": "code",
   "execution_count": 7,
   "id": "28377bbe-aac4-4d01-91cf-68ad1d585537",
   "metadata": {},
   "outputs": [
    {
     "data": {
      "text/plain": [
       "'@RailMinIndia @sureshpprabhu 231-9103685trn no.14854 PNR:  Charging socket of coach A1 is not working properly. Tripped several times.'"
      ]
     },
     "execution_count": 7,
     "metadata": {},
     "output_type": "execute_result"
    }
   ],
   "source": [
    "df['SentimentText'][232]"
   ]
  },
  {
   "cell_type": "code",
   "execution_count": 8,
   "id": "304bb2f7-fb67-4517-8d85-032c7fdfa095",
   "metadata": {},
   "outputs": [
    {
     "name": "stderr",
     "output_type": "stream",
     "text": [
      "C:\\Users\\KHAN T C\\AppData\\Local\\Temp\\ipykernel_6844\\1568713120.py:4: FutureWarning: \n",
      "\n",
      "Passing `palette` without assigning `hue` is deprecated and will be removed in v0.14.0. Assign the `x` variable to `hue` and set `legend=False` for the same effect.\n",
      "\n",
      "  sns.barplot(x=category_counts.index, y=category_counts.values, palette='viridis')\n"
     ]
    },
    {
     "data": {
      "image/png": "[encoded data removed]",
      "text/plain": [
       "<Figure size 1000x600 with 1 Axes>"
      ]
     },
     "metadata": {},
     "output_type": "display_data"
    }
   ],
   "source": [
    "category_counts = df['Sentiment'].value_counts()\n",
    "\n",
    "plt.figure(figsize=(10, 6))\n",
    "sns.barplot(x=category_counts.index, y=category_counts.values, palette='viridis')\n",
    "\n",
    "plt.xlabel('Category')\n",
    "plt.ylabel('Number of Reviews')\n",
    "plt.title('Distribution of Reviews by Category')\n",
    "plt.xticks(rotation=45, ha='right')\n",
    "plt.tight_layout()\n",
    "\n",
    "plt.show()"
   ]
  },
  {
   "cell_type": "code",
   "execution_count": 9,
   "id": "78b8c2f0-e579-4cda-bad2-a2475cf0a9c1",
   "metadata": {},
   "outputs": [],
   "source": [
    "def clean_tweet(tweet):\n",
    "    tweet = re.sub(r'@\\w+', '', tweet)\n",
    "    tweet = re.sub(r'http\\S+|www\\S+', '', tweet)\n",
    "    tweet = re.sub(r'#\\w+', '', tweet)\n",
    "    tweet = tweet.strip()\n",
    "    return tweet"
   ]
  },
  {
   "cell_type": "code",
   "execution_count": 10,
   "id": "100da77d-4f38-4e34-be60-5c0d3d01b28b",
   "metadata": {},
   "outputs": [
    {
     "data": {
      "text/plain": [
       "'below stated train waste almost one and half hour on platform please try to fix up less time!!! help'"
      ]
     },
     "execution_count": 10,
     "metadata": {},
     "output_type": "execute_result"
    }
   ],
   "source": [
    "df['SentimentText'] = df['SentimentText'].str.lower().apply(clean_tweet)\n",
    "df['SentimentText'][50]"
   ]
  },
  {
   "cell_type": "code",
   "execution_count": 11,
   "id": "8f89d453-2fc1-486a-8be2-54a66e2d1a21",
   "metadata": {},
   "outputs": [
    {
     "data": {
      "text/plain": [
       "9                                                      still vendors are selling local local products like water etc. inside the train\n",
       "16                              sir, ?? ?????? ????? ?????? ?? ?????????? ?? 6 ?? water point ???? ???? ??? ?? ??? ???  ?????? ??????.\n",
       "25                             paschim express, vendor doesn't give food mentioned in the menu, so ppl have no option 2 food of choice\n",
       "47                                   rpf at some serious eating business. pantry is for them not for passengers. shri shakti exp today\n",
       "51                                                       irctc canteen in mysore selling water 5rs more than mrp. just bought for 20/-\n",
       "                                                                     ...                                                              \n",
       "1346             pnr-2119051082trn:12910dt:08-06-2016p1-j4,29name: praveen i boarding  from nzm to brc  no food service was provided..\n",
       "1350                                                               standard meals charging rs 100 in 12194 train .my pnr no 8420297219\n",
       "1356                       train is with no pantry &amp;they were unable to find milk in ald could u please help next stop is satnaâ¦\n",
       "1358    travelling from nagpur to newdelhi in trivendrum express. n  m chargd rs90 for a single veg thali by rail caterin. plz explain\n",
       "1364                          while travelling on     train no./name: 12246 /  duronto expres.supervisor forced us to drink hot water.\n",
       "Name: SentimentText, Length: 157, dtype: object"
      ]
     },
     "execution_count": 11,
     "metadata": {},
     "output_type": "execute_result"
    }
   ],
   "source": [
    "pd.set_option('display.max_colwidth', None)\n",
    "df[df['Sentiment']==3]['SentimentText']"
   ]
  },
  {
   "cell_type": "code",
   "execution_count": 12,
   "id": "dba2a4cb-97bd-47ff-8290-afa3073a13dd",
   "metadata": {},
   "outputs": [],
   "source": [
    "from sklearn.feature_extraction.text import TfidfVectorizer\n",
    "from sklearn.linear_model import LogisticRegression\n",
    "from sklearn.pipeline import Pipeline\n",
    "from sklearn.model_selection import train_test_split\n",
    "from sklearn.metrics import classification_report"
   ]
  },
  {
   "cell_type": "code",
   "execution_count": 13,
   "id": "54e555d6-2309-46d8-8576-a354970f2174",
   "metadata": {},
   "outputs": [],
   "source": [
    "from nltk.corpus import stopwords\n",
    "\n",
    "sw_list = stopwords.words('english')\n",
    "X = df['SentimentText'].apply(lambda x: [item for item in x.split() if item not in sw_list]).apply(lambda x:\" \".join(x))\n",
    "y = df['Sentiment']"
   ]
  },
  {
   "cell_type": "code",
   "execution_count": 14,
   "id": "8d66c9af-b692-4869-8d47-ed0135dab034",
   "metadata": {},
   "outputs": [],
   "source": [
    "X_train, X_test, y_train, y_test = train_test_split(X, y, test_size=0.2, random_state=5)"
   ]
  },
  {
   "cell_type": "code",
   "execution_count": 15,
   "id": "3c7409c5-9c16-4700-9083-9debcac91b25",
   "metadata": {},
   "outputs": [],
   "source": [
    "pipeline = Pipeline([\n",
    "    ('tfidf', TfidfVectorizer(max_features=2000, stop_words='english')),\n",
    "    ('logreg', LogisticRegression(max_iter=1000))\n",
    "])"
   ]
  },
  {
   "cell_type": "code",
   "execution_count": 16,
   "id": "e49dbd31-4e92-49c9-9801-3a28c866b37f",
   "metadata": {},
   "outputs": [
    {
     "data": {
      "text/html": [
       "<style>#sk-container-id-1 {\n",
       "  /* Definition of color scheme common for light and dark mode */\n",
       "  --sklearn-color-text: black;\n",
       "  --sklearn-color-line: gray;\n",
       "  /* Definition of color scheme for unfitted estimators */\n",
       "  --sklearn-color-unfitted-level-0: #fff5e6;\n",
       "  --sklearn-color-unfitted-level-1: #f6e4d2;\n",
       "  --sklearn-color-unfitted-level-2: #ffe0b3;\n",
       "  --sklearn-color-unfitted-level-3: chocolate;\n",
       "  /* Definition of color scheme for fitted estimators */\n",
       "  --sklearn-color-fitted-level-0: #f0f8ff;\n",
       "  --sklearn-color-fitted-level-1: #d4ebff;\n",
       "  --sklearn-color-fitted-level-2: #b3dbfd;\n",
       "  --sklearn-color-fitted-level-3: cornflowerblue;\n",
       "\n",
       "  /* Specific color for light theme */\n",
       "  --sklearn-color-text-on-default-background: var(--sg-text-color, var(--theme-code-foreground, var(--jp-content-font-color1, black)));\n",
       "  --sklearn-color-background: var(--sg-background-color, var(--theme-background, var(--jp-layout-color0, white)));\n",
       "  --sklearn-color-border-box: var(--sg-text-color, var(--theme-code-foreground, var(--jp-content-font-color1, black)));\n",
       "  --sklearn-color-icon: #696969;\n",
       "\n",
       "  @media (prefers-color-scheme: dark) {\n",
       "    /* Redefinition of color scheme for dark theme */\n",
       "    --sklearn-color-text-on-default-background: var(--sg-text-color, var(--theme-code-foreground, var(--jp-content-font-color1, white)));\n",
       "    --sklearn-color-background: var(--sg-background-color, var(--theme-background, var(--jp-layout-color0, #111)));\n",
       "    --sklearn-color-border-box: var(--sg-text-color, var(--theme-code-foreground, var(--jp-content-font-color1, white)));\n",
       "    --sklearn-color-icon: #878787;\n",
       "  }\n",
       "}\n",
       "\n",
       "#sk-container-id-1 {\n",
       "  color: var(--sklearn-color-text);\n",
       "}\n",
       "\n",
       "#sk-container-id-1 pre {\n",
       "  padding: 0;\n",
       "}\n",
       "\n",
       "#sk-container-id-1 input.sk-hidden--visually {\n",
       "  border: 0;\n",
       "  clip: rect(1px 1px 1px 1px);\n",
       "  clip: rect(1px, 1px, 1px, 1px);\n",
       "  height: 1px;\n",
       "  margin: -1px;\n",
       "  overflow: hidden;\n",
       "  padding: 0;\n",
       "  position: absolute;\n",
       "  width: 1px;\n",
       "}\n",
       "\n",
       "#sk-container-id-1 div.sk-dashed-wrapped {\n",
       "  border: 1px dashed var(--sklearn-color-line);\n",
       "  margin: 0 0.4em 0.5em 0.4em;\n",
       "  box-sizing: border-box;\n",
       "  padding-bottom: 0.4em;\n",
       "  background-color: var(--sklearn-color-background);\n",
       "}\n",
       "\n",
       "#sk-container-id-1 div.sk-container {\n",
       "  /* jupyter's `normalize.less` sets `[hidden] { display: none; }`\n",
       "     but bootstrap.min.css set `[hidden] { display: none !important; }`\n",
       "     so we also need the `!important` here to be able to override the\n",
       "     default hidden behavior on the sphinx rendered scikit-learn.org.\n",
       "     See: https://github.com/scikit-learn/scikit-learn/issues/21755 */\n",
       "  display: inline-block !important;\n",
       "  position: relative;\n",
       "}\n",
       "\n",
       "#sk-container-id-1 div.sk-text-repr-fallback {\n",
       "  display: none;\n",
       "}\n",
       "\n",
       "div.sk-parallel-item,\n",
       "div.sk-serial,\n",
       "div.sk-item {\n",
       "  /* draw centered vertical line to link estimators */\n",
       "  background-image: linear-gradient(var(--sklearn-color-text-on-default-background), var(--sklearn-color-text-on-default-background));\n",
       "  background-size: 2px 100%;\n",
       "  background-repeat: no-repeat;\n",
       "  background-position: center center;\n",
       "}\n",
       "\n",
       "/* Parallel-specific style estimator block */\n",
       "\n",
       "#sk-container-id-1 div.sk-parallel-item::after {\n",
       "  content: \"\";\n",
       "  width: 100%;\n",
       "  border-bottom: 2px solid var(--sklearn-color-text-on-default-background);\n",
       "  flex-grow: 1;\n",
       "}\n",
       "\n",
       "#sk-container-id-1 div.sk-parallel {\n",
       "  display: flex;\n",
       "  align-items: stretch;\n",
       "  justify-content: center;\n",
       "  background-color: var(--sklearn-color-background);\n",
       "  position: relative;\n",
       "}\n",
       "\n",
       "#sk-container-id-1 div.sk-parallel-item {\n",
       "  display: flex;\n",
       "  flex-direction: column;\n",
       "}\n",
       "\n",
       "#sk-container-id-1 div.sk-parallel-item:first-child::after {\n",
       "  align-self: flex-end;\n",
       "  width: 50%;\n",
       "}\n",
       "\n",
       "#sk-container-id-1 div.sk-parallel-item:last-child::after {\n",
       "  align-self: flex-start;\n",
       "  width: 50%;\n",
       "}\n",
       "\n",
       "#sk-container-id-1 div.sk-parallel-item:only-child::after {\n",
       "  width: 0;\n",
       "}\n",
       "\n",
       "/* Serial-specific style estimator block */\n",
       "\n",
       "#sk-container-id-1 div.sk-serial {\n",
       "  display: flex;\n",
       "  flex-direction: column;\n",
       "  align-items: center;\n",
       "  background-color: var(--sklearn-color-background);\n",
       "  padding-right: 1em;\n",
       "  padding-left: 1em;\n",
       "}\n",
       "\n",
       "\n",
       "/* Toggleable style: style used for estimator/Pipeline/ColumnTransformer box that is\n",
       "clickable and can be expanded/collapsed.\n",
       "- Pipeline and ColumnTransformer use this feature and define the default style\n",
       "- Estimators will overwrite some part of the style using the `sk-estimator` class\n",
       "*/\n",
       "\n",
       "/* Pipeline and ColumnTransformer style (default) */\n",
       "\n",
       "#sk-container-id-1 div.sk-toggleable {\n",
       "  /* Default theme specific background. It is overwritten whether we have a\n",
       "  specific estimator or a Pipeline/ColumnTransformer */\n",
       "  background-color: var(--sklearn-color-background);\n",
       "}\n",
       "\n",
       "/* Toggleable label */\n",
       "#sk-container-id-1 label.sk-toggleable__label {\n",
       "  cursor: pointer;\n",
       "  display: block;\n",
       "  width: 100%;\n",
       "  margin-bottom: 0;\n",
       "  padding: 0.5em;\n",
       "  box-sizing: border-box;\n",
       "  text-align: center;\n",
       "}\n",
       "\n",
       "#sk-container-id-1 label.sk-toggleable__label-arrow:before {\n",
       "  /* Arrow on the left of the label */\n",
       "  content: \"▸\";\n",
       "  float: left;\n",
       "  margin-right: 0.25em;\n",
       "  color: var(--sklearn-color-icon);\n",
       "}\n",
       "\n",
       "#sk-container-id-1 label.sk-toggleable__label-arrow:hover:before {\n",
       "  color: var(--sklearn-color-text);\n",
       "}\n",
       "\n",
       "/* Toggleable content - dropdown */\n",
       "\n",
       "#sk-container-id-1 div.sk-toggleable__content {\n",
       "  max-height: 0;\n",
       "  max-width: 0;\n",
       "  overflow: hidden;\n",
       "  text-align: left;\n",
       "  /* unfitted */\n",
       "  background-color: var(--sklearn-color-unfitted-level-0);\n",
       "}\n",
       "\n",
       "#sk-container-id-1 div.sk-toggleable__content.fitted {\n",
       "  /* fitted */\n",
       "  background-color: var(--sklearn-color-fitted-level-0);\n",
       "}\n",
       "\n",
       "#sk-container-id-1 div.sk-toggleable__content pre {\n",
       "  margin: 0.2em;\n",
       "  border-radius: 0.25em;\n",
       "  color: var(--sklearn-color-text);\n",
       "  /* unfitted */\n",
       "  background-color: var(--sklearn-color-unfitted-level-0);\n",
       "}\n",
       "\n",
       "#sk-container-id-1 div.sk-toggleable__content.fitted pre {\n",
       "  /* unfitted */\n",
       "  background-color: var(--sklearn-color-fitted-level-0);\n",
       "}\n",
       "\n",
       "#sk-container-id-1 input.sk-toggleable__control:checked~div.sk-toggleable__content {\n",
       "  /* Expand drop-down */\n",
       "  max-height: 200px;\n",
       "  max-width: 100%;\n",
       "  overflow: auto;\n",
       "}\n",
       "\n",
       "#sk-container-id-1 input.sk-toggleable__control:checked~label.sk-toggleable__label-arrow:before {\n",
       "  content: \"▾\";\n",
       "}\n",
       "\n",
       "/* Pipeline/ColumnTransformer-specific style */\n",
       "\n",
       "#sk-container-id-1 div.sk-label input.sk-toggleable__control:checked~label.sk-toggleable__label {\n",
       "  color: var(--sklearn-color-text);\n",
       "  background-color: var(--sklearn-color-unfitted-level-2);\n",
       "}\n",
       "\n",
       "#sk-container-id-1 div.sk-label.fitted input.sk-toggleable__control:checked~label.sk-toggleable__label {\n",
       "  background-color: var(--sklearn-color-fitted-level-2);\n",
       "}\n",
       "\n",
       "/* Estimator-specific style */\n",
       "\n",
       "/* Colorize estimator box */\n",
       "#sk-container-id-1 div.sk-estimator input.sk-toggleable__control:checked~label.sk-toggleable__label {\n",
       "  /* unfitted */\n",
       "  background-color: var(--sklearn-color-unfitted-level-2);\n",
       "}\n",
       "\n",
       "#sk-container-id-1 div.sk-estimator.fitted input.sk-toggleable__control:checked~label.sk-toggleable__label {\n",
       "  /* fitted */\n",
       "  background-color: var(--sklearn-color-fitted-level-2);\n",
       "}\n",
       "\n",
       "#sk-container-id-1 div.sk-label label.sk-toggleable__label,\n",
       "#sk-container-id-1 div.sk-label label {\n",
       "  /* The background is the default theme color */\n",
       "  color: var(--sklearn-color-text-on-default-background);\n",
       "}\n",
       "\n",
       "/* On hover, darken the color of the background */\n",
       "#sk-container-id-1 div.sk-label:hover label.sk-toggleable__label {\n",
       "  color: var(--sklearn-color-text);\n",
       "  background-color: var(--sklearn-color-unfitted-level-2);\n",
       "}\n",
       "\n",
       "/* Label box, darken color on hover, fitted */\n",
       "#sk-container-id-1 div.sk-label.fitted:hover label.sk-toggleable__label.fitted {\n",
       "  color: var(--sklearn-color-text);\n",
       "  background-color: var(--sklearn-color-fitted-level-2);\n",
       "}\n",
       "\n",
       "/* Estimator label */\n",
       "\n",
       "#sk-container-id-1 div.sk-label label {\n",
       "  font-family: monospace;\n",
       "  font-weight: bold;\n",
       "  display: inline-block;\n",
       "  line-height: 1.2em;\n",
       "}\n",
       "\n",
       "#sk-container-id-1 div.sk-label-container {\n",
       "  text-align: center;\n",
       "}\n",
       "\n",
       "/* Estimator-specific */\n",
       "#sk-container-id-1 div.sk-estimator {\n",
       "  font-family: monospace;\n",
       "  border: 1px dotted var(--sklearn-color-border-box);\n",
       "  border-radius: 0.25em;\n",
       "  box-sizing: border-box;\n",
       "  margin-bottom: 0.5em;\n",
       "  /* unfitted */\n",
       "  background-color: var(--sklearn-color-unfitted-level-0);\n",
       "}\n",
       "\n",
       "#sk-container-id-1 div.sk-estimator.fitted {\n",
       "  /* fitted */\n",
       "  background-color: var(--sklearn-color-fitted-level-0);\n",
       "}\n",
       "\n",
       "/* on hover */\n",
       "#sk-container-id-1 div.sk-estimator:hover {\n",
       "  /* unfitted */\n",
       "  background-color: var(--sklearn-color-unfitted-level-2);\n",
       "}\n",
       "\n",
       "#sk-container-id-1 div.sk-estimator.fitted:hover {\n",
       "  /* fitted */\n",
       "  background-color: var(--sklearn-color-fitted-level-2);\n",
       "}\n",
       "\n",
       "/* Specification for estimator info (e.g. \"i\" and \"?\") */\n",
       "\n",
       "/* Common style for \"i\" and \"?\" */\n",
       "\n",
       ".sk-estimator-doc-link,\n",
       "a:link.sk-estimator-doc-link,\n",
       "a:visited.sk-estimator-doc-link {\n",
       "  float: right;\n",
       "  font-size: smaller;\n",
       "  line-height: 1em;\n",
       "  font-family: monospace;\n",
       "  background-color: var(--sklearn-color-background);\n",
       "  border-radius: 1em;\n",
       "  height: 1em;\n",
       "  width: 1em;\n",
       "  text-decoration: none !important;\n",
       "  margin-left: 1ex;\n",
       "  /* unfitted */\n",
       "  border: var(--sklearn-color-unfitted-level-1) 1pt solid;\n",
       "  color: var(--sklearn-color-unfitted-level-1);\n",
       "}\n",
       "\n",
       ".sk-estimator-doc-link.fitted,\n",
       "a:link.sk-estimator-doc-link.fitted,\n",
       "a:visited.sk-estimator-doc-link.fitted {\n",
       "  /* fitted */\n",
       "  border: var(--sklearn-color-fitted-level-1) 1pt solid;\n",
       "  color: var(--sklearn-color-fitted-level-1);\n",
       "}\n",
       "\n",
       "/* On hover */\n",
       "div.sk-estimator:hover .sk-estimator-doc-link:hover,\n",
       ".sk-estimator-doc-link:hover,\n",
       "div.sk-label-container:hover .sk-estimator-doc-link:hover,\n",
       ".sk-estimator-doc-link:hover {\n",
       "  /* unfitted */\n",
       "  background-color: var(--sklearn-color-unfitted-level-3);\n",
       "  color: var(--sklearn-color-background);\n",
       "  text-decoration: none;\n",
       "}\n",
       "\n",
       "div.sk-estimator.fitted:hover .sk-estimator-doc-link.fitted:hover,\n",
       ".sk-estimator-doc-link.fitted:hover,\n",
       "div.sk-label-container:hover .sk-estimator-doc-link.fitted:hover,\n",
       ".sk-estimator-doc-link.fitted:hover {\n",
       "  /* fitted */\n",
       "  background-color: var(--sklearn-color-fitted-level-3);\n",
       "  color: var(--sklearn-color-background);\n",
       "  text-decoration: none;\n",
       "}\n",
       "\n",
       "/* Span, style for the box shown on hovering the info icon */\n",
       ".sk-estimator-doc-link span {\n",
       "  display: none;\n",
       "  z-index: 9999;\n",
       "  position: relative;\n",
       "  font-weight: normal;\n",
       "  right: .2ex;\n",
       "  padding: .5ex;\n",
       "  margin: .5ex;\n",
       "  width: min-content;\n",
       "  min-width: 20ex;\n",
       "  max-width: 50ex;\n",
       "  color: var(--sklearn-color-text);\n",
       "  box-shadow: 2pt 2pt 4pt #999;\n",
       "  /* unfitted */\n",
       "  background: var(--sklearn-color-unfitted-level-0);\n",
       "  border: .5pt solid var(--sklearn-color-unfitted-level-3);\n",
       "}\n",
       "\n",
       ".sk-estimator-doc-link.fitted span {\n",
       "  /* fitted */\n",
       "  background: var(--sklearn-color-fitted-level-0);\n",
       "  border: var(--sklearn-color-fitted-level-3);\n",
       "}\n",
       "\n",
       ".sk-estimator-doc-link:hover span {\n",
       "  display: block;\n",
       "}\n",
       "\n",
       "/* \"?\"-specific style due to the `<a>` HTML tag */\n",
       "\n",
       "#sk-container-id-1 a.estimator_doc_link {\n",
       "  float: right;\n",
       "  font-size: 1rem;\n",
       "  line-height: 1em;\n",
       "  font-family: monospace;\n",
       "  background-color: var(--sklearn-color-background);\n",
       "  border-radius: 1rem;\n",
       "  height: 1rem;\n",
       "  width: 1rem;\n",
       "  text-decoration: none;\n",
       "  /* unfitted */\n",
       "  color: var(--sklearn-color-unfitted-level-1);\n",
       "  border: var(--sklearn-color-unfitted-level-1) 1pt solid;\n",
       "}\n",
       "\n",
       "#sk-container-id-1 a.estimator_doc_link.fitted {\n",
       "  /* fitted */\n",
       "  border: var(--sklearn-color-fitted-level-1) 1pt solid;\n",
       "  color: var(--sklearn-color-fitted-level-1);\n",
       "}\n",
       "\n",
       "/* On hover */\n",
       "#sk-container-id-1 a.estimator_doc_link:hover {\n",
       "  /* unfitted */\n",
       "  background-color: var(--sklearn-color-unfitted-level-3);\n",
       "  color: var(--sklearn-color-background);\n",
       "  text-decoration: none;\n",
       "}\n",
       "\n",
       "#sk-container-id-1 a.estimator_doc_link.fitted:hover {\n",
       "  /* fitted */\n",
       "  background-color: var(--sklearn-color-fitted-level-3);\n",
       "}\n",
       "</style><div id=\"sk-container-id-1\" class=\"sk-top-container\"><div class=\"sk-text-repr-fallback\"><pre>Pipeline(steps=[(&#x27;tfidf&#x27;,\n",
       "                 TfidfVectorizer(max_features=2000, stop_words=&#x27;english&#x27;)),\n",
       "                (&#x27;logreg&#x27;, LogisticRegression(max_iter=1000))])</pre><b>In a Jupyter environment, please rerun this cell to show the HTML representation or trust the notebook. <br />On GitHub, the HTML representation is unable to render, please try loading this page with nbviewer.org.</b></div><div class=\"sk-container\" hidden><div class=\"sk-item sk-dashed-wrapped\"><div class=\"sk-label-container\"><div class=\"sk-label fitted sk-toggleable\"><input class=\"sk-toggleable__control sk-hidden--visually\" id=\"sk-estimator-id-1\" type=\"checkbox\" ><label for=\"sk-estimator-id-1\" class=\"sk-toggleable__label fitted sk-toggleable__label-arrow fitted\">&nbsp;&nbsp;Pipeline<a class=\"sk-estimator-doc-link fitted\" rel=\"noreferrer\" target=\"_blank\" href=\"https://scikit-learn.org/1.4/modules/generated/sklearn.pipeline.Pipeline.html\">?<span>Documentation for Pipeline</span></a><span class=\"sk-estimator-doc-link fitted\">i<span>Fitted</span></span></label><div class=\"sk-toggleable__content fitted\"><pre>Pipeline(steps=[(&#x27;tfidf&#x27;,\n",
       "                 TfidfVectorizer(max_features=2000, stop_words=&#x27;english&#x27;)),\n",
       "                (&#x27;logreg&#x27;, LogisticRegression(max_iter=1000))])</pre></div> </div></div><div class=\"sk-serial\"><div class=\"sk-item\"><div class=\"sk-estimator fitted sk-toggleable\"><input class=\"sk-toggleable__control sk-hidden--visually\" id=\"sk-estimator-id-2\" type=\"checkbox\" ><label for=\"sk-estimator-id-2\" class=\"sk-toggleable__label fitted sk-toggleable__label-arrow fitted\">&nbsp;TfidfVectorizer<a class=\"sk-estimator-doc-link fitted\" rel=\"noreferrer\" target=\"_blank\" href=\"https://scikit-learn.org/1.4/modules/generated/sklearn.feature_extraction.text.TfidfVectorizer.html\">?<span>Documentation for TfidfVectorizer</span></a></label><div class=\"sk-toggleable__content fitted\"><pre>TfidfVectorizer(max_features=2000, stop_words=&#x27;english&#x27;)</pre></div> </div></div><div class=\"sk-item\"><div class=\"sk-estimator fitted sk-toggleable\"><input class=\"sk-toggleable__control sk-hidden--visually\" id=\"sk-estimator-id-3\" type=\"checkbox\" ><label for=\"sk-estimator-id-3\" class=\"sk-toggleable__label fitted sk-toggleable__label-arrow fitted\">&nbsp;LogisticRegression<a class=\"sk-estimator-doc-link fitted\" rel=\"noreferrer\" target=\"_blank\" href=\"https://scikit-learn.org/1.4/modules/generated/sklearn.linear_model.LogisticRegression.html\">?<span>Documentation for LogisticRegression</span></a></label><div class=\"sk-toggleable__content fitted\"><pre>LogisticRegression(max_iter=1000)</pre></div> </div></div></div></div></div></div>"
      ],
      "text/plain": [
       "Pipeline(steps=[('tfidf',\n",
       "                 TfidfVectorizer(max_features=2000, stop_words='english')),\n",
       "                ('logreg', LogisticRegression(max_iter=1000))])"
      ]
     },
     "execution_count": 16,
     "metadata": {},
     "output_type": "execute_result"
    }
   ],
   "source": [
    "pipeline.fit(X_train, y_train)"
   ]
  },
  {
   "cell_type": "code",
   "execution_count": 17,
   "id": "8078b388-9de1-491a-a632-e7ab912d6161",
   "metadata": {},
   "outputs": [],
   "source": [
    "y_pred = pipeline.predict(X_test)"
   ]
  },
  {
   "cell_type": "code",
   "execution_count": 18,
   "id": "bac6ca07-28ca-4106-b13d-17858cd27ade",
   "metadata": {},
   "outputs": [
    {
     "name": "stdout",
     "output_type": "stream",
     "text": [
      "Accuracy: 82.24%\n"
     ]
    }
   ],
   "source": [
    "from sklearn.metrics import accuracy_score, confusion_matrix, classification_report\n",
    "accuracy = accuracy_score(y_test, y_pred)\n",
    "print(f'Accuracy: {accuracy * 100:.2f}%')"
   ]
  },
  {
   "cell_type": "code",
   "execution_count": 19,
   "id": "958a370d-1299-43b6-b33e-983d364590d5",
   "metadata": {},
   "outputs": [
    {
     "name": "stdout",
     "output_type": "stream",
     "text": [
      "Confusion Matrix:\n",
      "[[52  0  0  0  2  2]\n",
      " [ 2  6  0  1  4  4]\n",
      " [ 0  0  1  0  1  4]\n",
      " [ 7  1  0 24  1  1]\n",
      " [ 3  0  0  0 33  3]\n",
      " [ 2  0  0  0  0 60]]\n"
     ]
    }
   ],
   "source": [
    "conf_matrix = confusion_matrix(y_test, y_pred)\n",
    "print('Confusion Matrix:')\n",
    "print(conf_matrix)"
   ]
  },
  {
   "cell_type": "code",
   "execution_count": 20,
   "id": "39518f46-c623-40db-a747-94091d6c25fa",
   "metadata": {},
   "outputs": [],
   "source": [
    "label_mapping = {\n",
    "    0: 'Cleanliness',\n",
    "    1: 'Others',\n",
    "    2: 'Medical issues',\n",
    "    3: 'Food Services',\n",
    "    4: 'Train Delay',\n",
    "    5: 'Ticket issues',\n",
    "}\n",
    "df['category'] = df['Sentiment'].map(label_mapping)\n",
    "df = df.drop('Sentiment', axis=1)"
   ]
  },
  {
   "cell_type": "code",
   "execution_count": 21,
   "id": "5b3c4755-a961-4d4a-b344-7aed68b5d0ae",
   "metadata": {},
   "outputs": [
    {
     "data": {
      "text/plain": [
       "(1068, 3)"
      ]
     },
     "execution_count": 21,
     "metadata": {},
     "output_type": "execute_result"
    }
   ],
   "source": [
    "df.shape"
   ]
  },
  {
   "cell_type": "code",
   "execution_count": 22,
   "id": "d78dd62d-8182-4637-979f-e754f89ab82c",
   "metadata": {},
   "outputs": [
    {
     "data": {
      "text/plain": [
       "'below stated train waste almost one and half hour on platform please try to fix up less time!!! help'"
      ]
     },
     "execution_count": 22,
     "metadata": {},
     "output_type": "execute_result"
    }
   ],
   "source": [
    "example = df['SentimentText'][50]\n",
    "example"
   ]
  },
  {
   "cell_type": "code",
   "execution_count": 23,
   "id": "71ecf1ec-32c5-472a-be44-a68620b4f890",
   "metadata": {},
   "outputs": [
    {
     "data": {
      "text/plain": [
       "['below',\n",
       " 'stated',\n",
       " 'train',\n",
       " 'waste',\n",
       " 'almost',\n",
       " 'one',\n",
       " 'and',\n",
       " 'half',\n",
       " 'hour',\n",
       " 'on',\n",
       " 'platform',\n",
       " 'please',\n",
       " 'try',\n",
       " 'to',\n",
       " 'fix',\n",
       " 'up',\n",
       " 'less',\n",
       " 'time',\n",
       " '!',\n",
       " '!',\n",
       " '!',\n",
       " 'help']"
      ]
     },
     "execution_count": 23,
     "metadata": {},
     "output_type": "execute_result"
    }
   ],
   "source": [
    "tokens = nltk.word_tokenize(example)\n",
    "tokens"
   ]
  },
  {
   "cell_type": "code",
   "execution_count": 24,
   "id": "15f753b4-5dd8-420d-bc95-01a418b9e48f",
   "metadata": {},
   "outputs": [
    {
     "data": {
      "text/plain": [
       "[('below', 'IN'),\n",
       " ('stated', 'VBN'),\n",
       " ('train', 'NN'),\n",
       " ('waste', 'NN'),\n",
       " ('almost', 'RB'),\n",
       " ('one', 'CD'),\n",
       " ('and', 'CC'),\n",
       " ('half', 'VB'),\n",
       " ('hour', 'NN'),\n",
       " ('on', 'IN')]"
      ]
     },
     "execution_count": 24,
     "metadata": {},
     "output_type": "execute_result"
    }
   ],
   "source": [
    "tagged = nltk.pos_tag(tokens)\n",
    "tagged[:10]"
   ]
  },
  {
   "cell_type": "code",
   "execution_count": 25,
   "id": "d1bc56c9-cf3b-4d27-9df0-e34f8ee05888",
   "metadata": {},
   "outputs": [
    {
     "name": "stdout",
     "output_type": "stream",
     "text": [
      "(S\n",
      "  below/IN\n",
      "  stated/VBN\n",
      "  train/NN\n",
      "  waste/NN\n",
      "  almost/RB\n",
      "  one/CD\n",
      "  and/CC\n",
      "  half/VB\n",
      "  hour/NN\n",
      "  on/IN\n",
      "  platform/NN\n",
      "  please/NN\n",
      "  try/VB\n",
      "  to/TO\n",
      "  fix/VB\n",
      "  up/RP\n",
      "  less/JJR\n",
      "  time/NN\n",
      "  !/.\n",
      "  !/.\n",
      "  !/.\n",
      "  help/NN)\n"
     ]
    }
   ],
   "source": [
    "entities = nltk.chunk.ne_chunk(tagged)\n",
    "entities.pprint()"
   ]
  },
  {
   "cell_type": "code",
   "execution_count": 26,
   "id": "a388b48e-7af9-4554-960a-402cc3218e01",
   "metadata": {},
   "outputs": [
    {
     "data": {
      "text/plain": [
       "<nltk.sentiment.vader.SentimentIntensityAnalyzer at 0x18897555d30>"
      ]
     },
     "execution_count": 26,
     "metadata": {},
     "output_type": "execute_result"
    }
   ],
   "source": [
    "from nltk.sentiment import SentimentIntensityAnalyzer\n",
    "from tqdm.notebook import tqdm\n",
    "sia = SentimentIntensityAnalyzer()\n",
    "sia"
   ]
  },
  {
   "cell_type": "code",
   "execution_count": 27,
   "id": "92ddb0c6-118c-400c-9cfa-53026ee341fa",
   "metadata": {},
   "outputs": [
    {
     "data": {
      "text/plain": [
       "{'neg': 0.115, 'neu': 0.656, 'pos': 0.229, 'compound': 0.421}"
      ]
     },
     "execution_count": 27,
     "metadata": {},
     "output_type": "execute_result"
    }
   ],
   "source": [
    "sia.polarity_scores(example)"
   ]
  },
  {
   "cell_type": "code",
   "execution_count": 28,
   "id": "c5449ea7-4695-4fd2-9a71-9bd412afdec3",
   "metadata": {},
   "outputs": [
    {
     "data": {
      "application/vnd.jupyter.widget-view+json": {
       "model_id": "67484111c2e743419f5c34e951ee1e7d",
       "version_major": 2,
       "version_minor": 0
      },
      "text/plain": [
       "  0%|          | 0/1068 [00:00<?, ?it/s]"
      ]
     },
     "metadata": {},
     "output_type": "display_data"
    }
   ],
   "source": [
    "res = {}\n",
    "for i, row in tqdm(df.iterrows(), total = len(df)):\n",
    "    text = row['SentimentText']\n",
    "    myid = row['Item ID']\n",
    "    res[myid] = sia.polarity_scores(text)"
   ]
  },
  {
   "cell_type": "code",
   "execution_count": 29,
   "id": "35bb9c29-e745-4dda-a02b-3b9a6a75412a",
   "metadata": {},
   "outputs": [],
   "source": [
    "vaders = pd.DataFrame(res).T\n",
    "vaders = vaders.reset_index().rename(columns={'index':'Item ID'})\n",
    "vaders = vaders.merge(df, how='left')"
   ]
  },
  {
   "cell_type": "code",
   "execution_count": 30,
   "id": "cc61c403-4ce5-4885-be05-c42bd2e25271",
   "metadata": {},
   "outputs": [
    {
     "data": {
      "text/html": [
       "<div>\n",
       "<style scoped>\n",
       "    .dataframe tbody tr th:only-of-type {\n",
       "        vertical-align: middle;\n",
       "    }\n",
       "\n",
       "    .dataframe tbody tr th {\n",
       "        vertical-align: top;\n",
       "    }\n",
       "\n",
       "    .dataframe thead th {\n",
       "        text-align: right;\n",
       "    }\n",
       "</style>\n",
       "<table border=\"1\" class=\"dataframe\">\n",
       "  <thead>\n",
       "    <tr style=\"text-align: right;\">\n",
       "      <th></th>\n",
       "      <th>Item ID</th>\n",
       "      <th>compound</th>\n",
       "      <th>SentimentText</th>\n",
       "      <th>category</th>\n",
       "      <th>neg</th>\n",
       "      <th>neu</th>\n",
       "      <th>pos</th>\n",
       "    </tr>\n",
       "  </thead>\n",
       "  <tbody>\n",
       "    <tr>\n",
       "      <th>0</th>\n",
       "      <td>1</td>\n",
       "      <td>-0.4767</td>\n",
       "      <td>my pnr is 8348062961, i am in way but there is no water in toilet and mess is everywhere in coach. please provide basic facil.</td>\n",
       "      <td>Cleanliness</td>\n",
       "      <td>False</td>\n",
       "      <td>True</td>\n",
       "      <td>False</td>\n",
       "    </tr>\n",
       "    <tr>\n",
       "      <th>1</th>\n",
       "      <td>2</td>\n",
       "      <td>-0.2235</td>\n",
       "      <td>ac not working in prayag lucknow intercity today which departed from prayag at 3.45 pm..staff not helping us</td>\n",
       "      <td>Cleanliness</td>\n",
       "      <td>False</td>\n",
       "      <td>True</td>\n",
       "      <td>False</td>\n",
       "    </tr>\n",
       "    <tr>\n",
       "      <th>2</th>\n",
       "      <td>3</td>\n",
       "      <td>0.0000</td>\n",
       "      <td>i'm traveling to chennai by train 16102 coach s4-46. my berth is very dirty(some one vomitted on the birth).</td>\n",
       "      <td>Cleanliness</td>\n",
       "      <td>False</td>\n",
       "      <td>True</td>\n",
       "      <td>False</td>\n",
       "    </tr>\n",
       "    <tr>\n",
       "      <th>3</th>\n",
       "      <td>4</td>\n",
       "      <td>0.0000</td>\n",
       "      <td>irctc is not responding at the time of tatkal booking.</td>\n",
       "      <td>Ticket issues</td>\n",
       "      <td>False</td>\n",
       "      <td>True</td>\n",
       "      <td>False</td>\n",
       "    </tr>\n",
       "    <tr>\n",
       "      <th>4</th>\n",
       "      <td>7</td>\n",
       "      <td>-0.2263</td>\n",
       "      <td>wrkout smthng tht cn hlp trains to run on right time.malwa exprs delayed more than 3 hrs @ mathura junction</td>\n",
       "      <td>Train Delay</td>\n",
       "      <td>False</td>\n",
       "      <td>True</td>\n",
       "      <td>False</td>\n",
       "    </tr>\n",
       "    <tr>\n",
       "      <th>...</th>\n",
       "      <td>...</td>\n",
       "      <td>...</td>\n",
       "      <td>...</td>\n",
       "      <td>...</td>\n",
       "      <td>...</td>\n",
       "      <td>...</td>\n",
       "      <td>...</td>\n",
       "    </tr>\n",
       "    <tr>\n",
       "      <th>1063</th>\n",
       "      <td>1361</td>\n",
       "      <td>0.1027</td>\n",
       "      <td>train no 12601 maangalore mail- general passengers in reserved compartment s11. difficult to reach bathroom. please help</td>\n",
       "      <td>Cleanliness</td>\n",
       "      <td>False</td>\n",
       "      <td>True</td>\n",
       "      <td>False</td>\n",
       "    </tr>\n",
       "    <tr>\n",
       "      <th>1064</th>\n",
       "      <td>1362</td>\n",
       "      <td>-0.0516</td>\n",
       "      <td>an aged lady has been alloted upper berth in train no. 22911. pnr no. 8553362063. kindly see if any modifications possible.</td>\n",
       "      <td>Ticket issues</td>\n",
       "      <td>False</td>\n",
       "      <td>True</td>\n",
       "      <td>False</td>\n",
       "    </tr>\n",
       "    <tr>\n",
       "      <th>1065</th>\n",
       "      <td>1363</td>\n",
       "      <td>-0.1531</td>\n",
       "      <td>aggressive copassengers, need of immediate change of seat pnr 4512791357</td>\n",
       "      <td>Others</td>\n",
       "      <td>False</td>\n",
       "      <td>True</td>\n",
       "      <td>False</td>\n",
       "    </tr>\n",
       "    <tr>\n",
       "      <th>1066</th>\n",
       "      <td>1364</td>\n",
       "      <td>-0.6808</td>\n",
       "      <td>no water in coach...please do something...train no. 12550,coach no. b4,jammutawi durg exp.,,,,next station is agra..</td>\n",
       "      <td>Cleanliness</td>\n",
       "      <td>False</td>\n",
       "      <td>True</td>\n",
       "      <td>False</td>\n",
       "    </tr>\n",
       "    <tr>\n",
       "      <th>1067</th>\n",
       "      <td>1365</td>\n",
       "      <td>-0.4588</td>\n",
       "      <td>while travelling on     train no./name: 12246 /  duronto expres.supervisor forced us to drink hot water.</td>\n",
       "      <td>Food Services</td>\n",
       "      <td>False</td>\n",
       "      <td>True</td>\n",
       "      <td>False</td>\n",
       "    </tr>\n",
       "  </tbody>\n",
       "</table>\n",
       "<p>1068 rows × 7 columns</p>\n",
       "</div>"
      ],
      "text/plain": [
       "      Item ID  compound  \\\n",
       "0           1   -0.4767   \n",
       "1           2   -0.2235   \n",
       "2           3    0.0000   \n",
       "3           4    0.0000   \n",
       "4           7   -0.2263   \n",
       "...       ...       ...   \n",
       "1063     1361    0.1027   \n",
       "1064     1362   -0.0516   \n",
       "1065     1363   -0.1531   \n",
       "1066     1364   -0.6808   \n",
       "1067     1365   -0.4588   \n",
       "\n",
       "                                                                                                                       SentimentText  \\\n",
       "0     my pnr is 8348062961, i am in way but there is no water in toilet and mess is everywhere in coach. please provide basic facil.   \n",
       "1                       ac not working in prayag lucknow intercity today which departed from prayag at 3.45 pm..staff not helping us   \n",
       "2                       i'm traveling to chennai by train 16102 coach s4-46. my berth is very dirty(some one vomitted on the birth).   \n",
       "3                                                                             irctc is not responding at the time of tatkal booking.   \n",
       "4                        wrkout smthng tht cn hlp trains to run on right time.malwa exprs delayed more than 3 hrs @ mathura junction   \n",
       "...                                                                                                                              ...   \n",
       "1063        train no 12601 maangalore mail- general passengers in reserved compartment s11. difficult to reach bathroom. please help   \n",
       "1064     an aged lady has been alloted upper berth in train no. 22911. pnr no. 8553362063. kindly see if any modifications possible.   \n",
       "1065                                                        aggressive copassengers, need of immediate change of seat pnr 4512791357   \n",
       "1066            no water in coach...please do something...train no. 12550,coach no. b4,jammutawi durg exp.,,,,next station is agra..   \n",
       "1067                        while travelling on     train no./name: 12246 /  duronto expres.supervisor forced us to drink hot water.   \n",
       "\n",
       "           category    neg   neu    pos  \n",
       "0       Cleanliness  False  True  False  \n",
       "1       Cleanliness  False  True  False  \n",
       "2       Cleanliness  False  True  False  \n",
       "3     Ticket issues  False  True  False  \n",
       "4       Train Delay  False  True  False  \n",
       "...             ...    ...   ...    ...  \n",
       "1063    Cleanliness  False  True  False  \n",
       "1064  Ticket issues  False  True  False  \n",
       "1065         Others  False  True  False  \n",
       "1066    Cleanliness  False  True  False  \n",
       "1067  Food Services  False  True  False  \n",
       "\n",
       "[1068 rows x 7 columns]"
      ]
     },
     "execution_count": 30,
     "metadata": {},
     "output_type": "execute_result"
    }
   ],
   "source": [
    "vaders['max_sentiment'] = vaders[['neg','neu','pos']].idxmax(axis=1)\n",
    "\n",
    "vaders_one_hot = pd.get_dummies(vaders['max_sentiment'])\n",
    "\n",
    "vaders = vaders.drop(['neg','neu','pos'], axis=1)\n",
    "\n",
    "df_vaders_one_hot = pd.concat([vaders, vaders_one_hot], axis=1)\n",
    "\n",
    "df_vaders_one_hot = df_vaders_one_hot.drop('max_sentiment', axis=1)\n",
    "\n",
    "df_vaders_one_hot"
   ]
  },
  {
   "cell_type": "code",
   "execution_count": 31,
   "id": "d5b26760-d359-43e7-92f2-19fea944cb84",
   "metadata": {},
   "outputs": [
    {
     "data": {
      "text/plain": [
       "<Figure size 1200x800 with 0 Axes>"
      ]
     },
     "metadata": {},
     "output_type": "display_data"
    },
    {
     "data": {
      "image/png": "[encoded data removed]",
      "text/plain": [
       "<Figure size 640x480 with 1 Axes>"
      ]
     },
     "metadata": {},
     "output_type": "display_data"
    }
   ],
   "source": [
    "vaders_sentiment_counts = df_vaders_one_hot.groupby('category')[['pos', 'neu', 'neg']].sum()\n",
    "\n",
    "# Plot the distribution using a bar plot\n",
    "plt.figure(figsize=(12, 8))\n",
    "vaders_sentiment_counts.plot(kind='bar', stacked=True, colormap='viridis')\n",
    "\n",
    "# Add labels and title\n",
    "plt.xlabel('Category')\n",
    "plt.ylabel('Number of Reviews')\n",
    "plt.title('Number of Positive, Neutral, and Negative Reviews per Category')\n",
    "plt.xticks(rotation=45, ha='right')  # Rotate x labels for better readability\n",
    "plt.legend(title='Sentiment')\n",
    "plt.tight_layout()\n",
    "\n",
    "# Show the plot\n",
    "plt.show()"
   ]
  },
  {
   "cell_type": "code",
   "execution_count": 32,
   "id": "38a59171-02da-438d-a5ee-6d786c81c905",
   "metadata": {},
   "outputs": [
    {
     "data": {
      "text/html": [
       "<div>\n",
       "<style scoped>\n",
       "    .dataframe tbody tr th:only-of-type {\n",
       "        vertical-align: middle;\n",
       "    }\n",
       "\n",
       "    .dataframe tbody tr th {\n",
       "        vertical-align: top;\n",
       "    }\n",
       "\n",
       "    .dataframe thead th {\n",
       "        text-align: right;\n",
       "    }\n",
       "</style>\n",
       "<table border=\"1\" class=\"dataframe\">\n",
       "  <thead>\n",
       "    <tr style=\"text-align: right;\">\n",
       "      <th></th>\n",
       "      <th>Item ID</th>\n",
       "      <th>compound</th>\n",
       "      <th>SentimentText</th>\n",
       "      <th>category</th>\n",
       "      <th>neg</th>\n",
       "      <th>neu</th>\n",
       "      <th>pos</th>\n",
       "    </tr>\n",
       "  </thead>\n",
       "  <tbody>\n",
       "    <tr>\n",
       "      <th>0</th>\n",
       "      <td>1</td>\n",
       "      <td>-0.4767</td>\n",
       "      <td>my pnr is 8348062961, i am in way but there is no water in toilet and mess is everywhere in coach. please provide basic facil.</td>\n",
       "      <td>Cleanliness</td>\n",
       "      <td>False</td>\n",
       "      <td>True</td>\n",
       "      <td>False</td>\n",
       "    </tr>\n",
       "    <tr>\n",
       "      <th>1</th>\n",
       "      <td>2</td>\n",
       "      <td>-0.2235</td>\n",
       "      <td>ac not working in prayag lucknow intercity today which departed from prayag at 3.45 pm..staff not helping us</td>\n",
       "      <td>Cleanliness</td>\n",
       "      <td>False</td>\n",
       "      <td>True</td>\n",
       "      <td>False</td>\n",
       "    </tr>\n",
       "    <tr>\n",
       "      <th>2</th>\n",
       "      <td>3</td>\n",
       "      <td>0.0000</td>\n",
       "      <td>i'm traveling to chennai by train 16102 coach s4-46. my berth is very dirty(some one vomitted on the birth).</td>\n",
       "      <td>Cleanliness</td>\n",
       "      <td>False</td>\n",
       "      <td>True</td>\n",
       "      <td>False</td>\n",
       "    </tr>\n",
       "    <tr>\n",
       "      <th>3</th>\n",
       "      <td>4</td>\n",
       "      <td>0.0000</td>\n",
       "      <td>irctc is not responding at the time of tatkal booking.</td>\n",
       "      <td>Ticket issues</td>\n",
       "      <td>False</td>\n",
       "      <td>True</td>\n",
       "      <td>False</td>\n",
       "    </tr>\n",
       "    <tr>\n",
       "      <th>4</th>\n",
       "      <td>7</td>\n",
       "      <td>-0.2263</td>\n",
       "      <td>wrkout smthng tht cn hlp trains to run on right time.malwa exprs delayed more than 3 hrs @ mathura junction</td>\n",
       "      <td>Train Delay</td>\n",
       "      <td>False</td>\n",
       "      <td>True</td>\n",
       "      <td>False</td>\n",
       "    </tr>\n",
       "  </tbody>\n",
       "</table>\n",
       "</div>"
      ],
      "text/plain": [
       "   Item ID  compound  \\\n",
       "0        1   -0.4767   \n",
       "1        2   -0.2235   \n",
       "2        3    0.0000   \n",
       "3        4    0.0000   \n",
       "4        7   -0.2263   \n",
       "\n",
       "                                                                                                                    SentimentText  \\\n",
       "0  my pnr is 8348062961, i am in way but there is no water in toilet and mess is everywhere in coach. please provide basic facil.   \n",
       "1                    ac not working in prayag lucknow intercity today which departed from prayag at 3.45 pm..staff not helping us   \n",
       "2                    i'm traveling to chennai by train 16102 coach s4-46. my berth is very dirty(some one vomitted on the birth).   \n",
       "3                                                                          irctc is not responding at the time of tatkal booking.   \n",
       "4                     wrkout smthng tht cn hlp trains to run on right time.malwa exprs delayed more than 3 hrs @ mathura junction   \n",
       "\n",
       "        category    neg   neu    pos  \n",
       "0    Cleanliness  False  True  False  \n",
       "1    Cleanliness  False  True  False  \n",
       "2    Cleanliness  False  True  False  \n",
       "3  Ticket issues  False  True  False  \n",
       "4    Train Delay  False  True  False  "
      ]
     },
     "execution_count": 32,
     "metadata": {},
     "output_type": "execute_result"
    }
   ],
   "source": [
    "df_vaders_one_hot.head()"
   ]
  },
  {
   "cell_type": "code",
   "execution_count": 33,
   "id": "71f57057-dd8b-4857-b225-029531779e8a",
   "metadata": {},
   "outputs": [
    {
     "data": {
      "text/plain": [
       "\"i'm traveling to chennai by train 16102 coach s4-46. my berth is very dirty(some one vomitted on the birth).\""
      ]
     },
     "execution_count": 33,
     "metadata": {},
     "output_type": "execute_result"
    }
   ],
   "source": [
    "df_vaders_one_hot['SentimentText'][2]"
   ]
  },
  {
   "cell_type": "code",
   "execution_count": 34,
   "id": "94b98846-965d-4581-942a-56d94241afbc",
   "metadata": {},
   "outputs": [
    {
     "data": {
      "text/html": [
       "<div>\n",
       "<style scoped>\n",
       "    .dataframe tbody tr th:only-of-type {\n",
       "        vertical-align: middle;\n",
       "    }\n",
       "\n",
       "    .dataframe tbody tr th {\n",
       "        vertical-align: top;\n",
       "    }\n",
       "\n",
       "    .dataframe thead th {\n",
       "        text-align: right;\n",
       "    }\n",
       "</style>\n",
       "<table border=\"1\" class=\"dataframe\">\n",
       "  <thead>\n",
       "    <tr style=\"text-align: right;\">\n",
       "      <th></th>\n",
       "      <th>Item ID</th>\n",
       "      <th>compound</th>\n",
       "      <th>SentimentText</th>\n",
       "      <th>category</th>\n",
       "      <th>neg</th>\n",
       "      <th>neu</th>\n",
       "      <th>pos</th>\n",
       "    </tr>\n",
       "  </thead>\n",
       "  <tbody>\n",
       "    <tr>\n",
       "      <th>261</th>\n",
       "      <td>336</td>\n",
       "      <td>0.3182</td>\n",
       "      <td>please take n/a.</td>\n",
       "      <td>Ticket issues</td>\n",
       "      <td>False</td>\n",
       "      <td>False</td>\n",
       "      <td>True</td>\n",
       "    </tr>\n",
       "    <tr>\n",
       "      <th>195</th>\n",
       "      <td>250</td>\n",
       "      <td>0.3182</td>\n",
       "      <td>please share train no, and coach position.</td>\n",
       "      <td>Train Delay</td>\n",
       "      <td>False</td>\n",
       "      <td>False</td>\n",
       "      <td>True</td>\n",
       "    </tr>\n",
       "    <tr>\n",
       "      <th>695</th>\n",
       "      <td>880</td>\n",
       "      <td>0.4939</td>\n",
       "      <td>kindly look into this</td>\n",
       "      <td>Others</td>\n",
       "      <td>False</td>\n",
       "      <td>False</td>\n",
       "      <td>True</td>\n",
       "    </tr>\n",
       "    <tr>\n",
       "      <th>443</th>\n",
       "      <td>568</td>\n",
       "      <td>0.8625</td>\n",
       "      <td>can't we increase security check in railway stations just like metro stations. feeling safe is best comfort.</td>\n",
       "      <td>Others</td>\n",
       "      <td>False</td>\n",
       "      <td>False</td>\n",
       "      <td>True</td>\n",
       "    </tr>\n",
       "    <tr>\n",
       "      <th>362</th>\n",
       "      <td>458</td>\n",
       "      <td>0.6486</td>\n",
       "      <td>please help. his pnr number is 2820176609</td>\n",
       "      <td>Medical issues</td>\n",
       "      <td>False</td>\n",
       "      <td>False</td>\n",
       "      <td>True</td>\n",
       "    </tr>\n",
       "    <tr>\n",
       "      <th>...</th>\n",
       "      <td>...</td>\n",
       "      <td>...</td>\n",
       "      <td>...</td>\n",
       "      <td>...</td>\n",
       "      <td>...</td>\n",
       "      <td>...</td>\n",
       "      <td>...</td>\n",
       "    </tr>\n",
       "    <tr>\n",
       "      <th>365</th>\n",
       "      <td>461</td>\n",
       "      <td>0.4118</td>\n",
       "      <td>dear sir, u took a good initiative of wateratm but the machine is dispensing 900ml water on the price of 1ltr</td>\n",
       "      <td>Food Services</td>\n",
       "      <td>False</td>\n",
       "      <td>True</td>\n",
       "      <td>False</td>\n",
       "    </tr>\n",
       "    <tr>\n",
       "      <th>366</th>\n",
       "      <td>462</td>\n",
       "      <td>0.0000</td>\n",
       "      <td>sir,please hlp my sis travlng vid 9months baby+2kid intrain12479lost her reticule-she is vry depressd-pnr-2419055140,pls asist</td>\n",
       "      <td>Others</td>\n",
       "      <td>False</td>\n",
       "      <td>True</td>\n",
       "      <td>False</td>\n",
       "    </tr>\n",
       "    <tr>\n",
       "      <th>367</th>\n",
       "      <td>463</td>\n",
       "      <td>-0.5267</td>\n",
       "      <td>sir, missing girl could not be traced. pl lodge missing report with grp/siliguri</td>\n",
       "      <td>Others</td>\n",
       "      <td>False</td>\n",
       "      <td>True</td>\n",
       "      <td>False</td>\n",
       "    </tr>\n",
       "    <tr>\n",
       "      <th>368</th>\n",
       "      <td>465</td>\n",
       "      <td>-0.5209</td>\n",
       "      <td>the first class coupes in the ranchi- hatia express are very old and poor air conditioning they should be replac</td>\n",
       "      <td>Cleanliness</td>\n",
       "      <td>False</td>\n",
       "      <td>True</td>\n",
       "      <td>False</td>\n",
       "    </tr>\n",
       "    <tr>\n",
       "      <th>1067</th>\n",
       "      <td>1365</td>\n",
       "      <td>-0.4588</td>\n",
       "      <td>while travelling on     train no./name: 12246 /  duronto expres.supervisor forced us to drink hot water.</td>\n",
       "      <td>Food Services</td>\n",
       "      <td>False</td>\n",
       "      <td>True</td>\n",
       "      <td>False</td>\n",
       "    </tr>\n",
       "  </tbody>\n",
       "</table>\n",
       "<p>1068 rows × 7 columns</p>\n",
       "</div>"
      ],
      "text/plain": [
       "      Item ID  compound  \\\n",
       "261       336    0.3182   \n",
       "195       250    0.3182   \n",
       "695       880    0.4939   \n",
       "443       568    0.8625   \n",
       "362       458    0.6486   \n",
       "...       ...       ...   \n",
       "365       461    0.4118   \n",
       "366       462    0.0000   \n",
       "367       463   -0.5267   \n",
       "368       465   -0.5209   \n",
       "1067     1365   -0.4588   \n",
       "\n",
       "                                                                                                                       SentimentText  \\\n",
       "261                                                                                                                 please take n/a.   \n",
       "195                                                                                       please share train no, and coach position.   \n",
       "695                                                                                                            kindly look into this   \n",
       "443                     can't we increase security check in railway stations just like metro stations. feeling safe is best comfort.   \n",
       "362                                                                                        please help. his pnr number is 2820176609   \n",
       "...                                                                                                                              ...   \n",
       "365                    dear sir, u took a good initiative of wateratm but the machine is dispensing 900ml water on the price of 1ltr   \n",
       "366   sir,please hlp my sis travlng vid 9months baby+2kid intrain12479lost her reticule-she is vry depressd-pnr-2419055140,pls asist   \n",
       "367                                                 sir, missing girl could not be traced. pl lodge missing report with grp/siliguri   \n",
       "368                 the first class coupes in the ranchi- hatia express are very old and poor air conditioning they should be replac   \n",
       "1067                        while travelling on     train no./name: 12246 /  duronto expres.supervisor forced us to drink hot water.   \n",
       "\n",
       "            category    neg    neu    pos  \n",
       "261    Ticket issues  False  False   True  \n",
       "195      Train Delay  False  False   True  \n",
       "695           Others  False  False   True  \n",
       "443           Others  False  False   True  \n",
       "362   Medical issues  False  False   True  \n",
       "...              ...    ...    ...    ...  \n",
       "365    Food Services  False   True  False  \n",
       "366           Others  False   True  False  \n",
       "367           Others  False   True  False  \n",
       "368      Cleanliness  False   True  False  \n",
       "1067   Food Services  False   True  False  \n",
       "\n",
       "[1068 rows x 7 columns]"
      ]
     },
     "execution_count": 34,
     "metadata": {},
     "output_type": "execute_result"
    }
   ],
   "source": [
    "df_vaders_one_hot.sort_values('pos', ascending=False)"
   ]
  },
  {
   "cell_type": "code",
   "execution_count": 35,
   "id": "0da1f23a-b1f9-413e-86e0-601a2839acb6",
   "metadata": {},
   "outputs": [],
   "source": [
    "from transformers import AutoTokenizer\n",
    "from transformers import AutoModelForSequenceClassification\n",
    "from scipy.special import softmax"
   ]
  },
  {
   "cell_type": "code",
   "execution_count": 36,
   "id": "c91bc444-1cd9-46f3-9172-d913eb06980e",
   "metadata": {},
   "outputs": [
    {
     "name": "stderr",
     "output_type": "stream",
     "text": [
      "C:\\Users\\KHAN T C\\AppData\\Local\\Programs\\Python\\Python312\\Lib\\site-packages\\transformers\\tokenization_utils_base.py:1601: FutureWarning: `clean_up_tokenization_spaces` was not set. It will be set to `True` by default. This behavior will be depracted in transformers v4.45, and will be then set to `False` by default. For more details check this issue: https://github.com/huggingface/transformers/issues/31884\n",
      "  warnings.warn(\n"
     ]
    }
   ],
   "source": [
    "MODEL = f\"cardiffnlp/twitter-roberta-base-sentiment\"\n",
    "tokenizer = AutoTokenizer.from_pretrained(MODEL)\n",
    "model = AutoModelForSequenceClassification.from_pretrained(MODEL)"
   ]
  },
  {
   "cell_type": "code",
   "execution_count": 37,
   "id": "d5b574b5-b0e9-4045-a8cd-53bd9fda73b2",
   "metadata": {},
   "outputs": [
    {
     "data": {
      "text/plain": [
       "{'roberta_neg': 0.62652856,\n",
       " 'roberta_neu': 0.31618753,\n",
       " 'roberta_pos': 0.057283834}"
      ]
     },
     "execution_count": 37,
     "metadata": {},
     "output_type": "execute_result"
    }
   ],
   "source": [
    "encoded_text = tokenizer(example, return_tensors = 'pt')\n",
    "output = model(**encoded_text)\n",
    "scores = output[0][0].detach().numpy()\n",
    "scores = softmax(scores)\n",
    "scores_dict = {\n",
    "    'roberta_neg': scores[0],\n",
    "    'roberta_neu': scores[1],\n",
    "    'roberta_pos': scores[2],\n",
    "}\n",
    "scores_dict"
   ]
  },
  {
   "cell_type": "code",
   "execution_count": 38,
   "id": "f8a22623-10b4-42b1-bd6f-6a3d2991c392",
   "metadata": {},
   "outputs": [],
   "source": [
    "def polarity_scores_roberta(example):\n",
    "    encoded_text = tokenizer(example, return_tensors = 'pt')\n",
    "    output = model(**encoded_text)\n",
    "    scores = output[0][0].detach().numpy()\n",
    "    scores = softmax(scores)\n",
    "    scores_dict = {\n",
    "        'roberta_neg': scores[0],\n",
    "        'roberta_neu': scores[1],\n",
    "        'roberta_pos': scores[2],\n",
    "    }\n",
    "    return scores_dict"
   ]
  },
  {
   "cell_type": "code",
   "execution_count": null,
   "id": "dcab6f05-3d39-4cb3-999d-8161861ced51",
   "metadata": {},
   "outputs": [
    {
     "data": {
      "application/vnd.jupyter.widget-view+json": {
       "model_id": "4766a95361f644a1b4e14d58694f837b",
       "version_major": 2,
       "version_minor": 0
      },
      "text/plain": [
       "  0%|          | 0/1068 [00:00<?, ?it/s]"
      ]
     },
     "metadata": {},
     "output_type": "display_data"
    }
   ],
   "source": [
    "res = {}\n",
    "for i, row in tqdm(df.iterrows(), total=len(df)):\n",
    "    try:\n",
    "        text = row['SentimentText']\n",
    "        myid = row['Item ID']\n",
    "        vader_result = sia.polarity_scores(text)\n",
    "        vader_result_rename = {}\n",
    "        for key, value in vader_result.items():\n",
    "            vader_result_rename[f\"vader_{key}\"] = value\n",
    "        roberta_result = polarity_scores_roberta(text)\n",
    "        both = {**vader_result_rename, **roberta_result}\n",
    "        res[myid] = both\n",
    "    except RuntimeError:\n",
    "        print(f'Broke for id {myid}')\n"
   ]
  },
  {
   "cell_type": "code",
   "execution_count": null,
   "id": "d98f995a-d123-401a-b935-00bdd64431a1",
   "metadata": {},
   "outputs": [],
   "source": [
    "res[1]"
   ]
  },
  {
   "cell_type": "code",
   "execution_count": null,
   "id": "b66d52e1-590c-4109-a505-442f811d3100",
   "metadata": {},
   "outputs": [],
   "source": [
    "results_df = pd.DataFrame(res).T\n",
    "results_df = results_df.reset_index().rename(columns={'index': 'Item ID'})\n",
    "results_df = results_df.merge(df, how='left')"
   ]
  },
  {
   "cell_type": "code",
   "execution_count": null,
   "id": "b508a5d5-d88e-4fbd-b812-d4c26273fcc7",
   "metadata": {},
   "outputs": [],
   "source": [
    "results_df.head()"
   ]
  },
  {
   "cell_type": "code",
   "execution_count": null,
   "id": "3169ac61-df93-4b5d-aa74-8defc81b1c38",
   "metadata": {},
   "outputs": [],
   "source": [
    "roberta_sentiment_counts = results_df.groupby('category')[['roberta_pos', 'roberta_neu', 'roberta_neg']].sum()\n",
    "\n",
    "# Plot the distribution using a bar plot\n",
    "plt.figure(figsize=(12, 8))\n",
    "roberta_sentiment_counts.plot(kind='bar', stacked=True, colormap='viridis')\n",
    "\n",
    "# Add labels and title\n",
    "plt.xlabel('Category')\n",
    "plt.ylabel('Number of Reviews')\n",
    "plt.title('Number of Positive, Neutral, and Negative Reviews per Category')\n",
    "plt.xticks(rotation=45, ha='right')  # Rotate x labels for better readability\n",
    "plt.legend(title='Sentiment')\n",
    "plt.tight_layout()\n",
    "\n",
    "# Show the plot\n",
    "plt.show()"
   ]
  },
  {
   "cell_type": "code",
   "execution_count": null,
   "id": "a90eaa32-6f26-4f96-a691-e605884460bd",
   "metadata": {},
   "outputs": [],
   "source": [
    "results_df.sort_values('roberta_pos', ascending=False)['SentimentText']"
   ]
  },
  {
   "cell_type": "code",
   "execution_count": null,
   "id": "3f51eed8-2264-4fe2-b179-2e3e85266df6",
   "metadata": {},
   "outputs": [],
   "source": [
    "results_df.sort_values('vader_pos', ascending=False)['SentimentText']"
   ]
  },
  {
   "cell_type": "code",
   "execution_count": null,
   "id": "9cbebb00-d8fe-46ce-b60d-d5e4daf3bce2",
   "metadata": {},
   "outputs": [],
   "source": [
    "results_df.sort_values('roberta_neg', ascending=False)['SentimentText']"
   ]
  },
  {
   "cell_type": "code",
   "execution_count": null,
   "id": "120049bf-9250-4fa9-963c-8ce301d7342b",
   "metadata": {},
   "outputs": [],
   "source": [
    "results_df.sort_values('vader_neg', ascending=False)['SentimentText']"
   ]
  },
  {
   "cell_type": "code",
   "execution_count": null,
   "id": "eb44edd5-2213-4794-92b2-452d7d9582ee",
   "metadata": {},
   "outputs": [],
   "source": [
    "results_df['max_sentiment'] = results_df[['roberta_neg', 'roberta_neu', 'roberta_pos']].idxmax(axis=1)\n",
    "one_hot = pd.get_dummies(results_df['max_sentiment'])"
   ]
  },
  {
   "cell_type": "code",
   "execution_count": null,
   "id": "c4e62588-f110-4ec1-9f8b-57c83e77b25c",
   "metadata": {},
   "outputs": [],
   "source": [
    "overall_sentiment_counts = {\n",
    "    'Roberta': {\n",
    "        'pos': results_df['roberta_pos'].sum(),\n",
    "        'neu': results_df['roberta_neu'].sum(),\n",
    "        'neg': results_df['roberta_neg'].sum()\n",
    "    },\n",
    "    'Vader': {\n",
    "        'pos': results_df['vader_pos'].sum(),\n",
    "        'neu': results_df['vader_neu'].sum(),\n",
    "        'neg': results_df['vader_neg'].sum()\n",
    "    }\n",
    "}\n",
    "\n",
    "overall_sentiment_df = pd.DataFrame(overall_sentiment_counts)\n",
    "\n",
    "overall_sentiment_df = overall_sentiment_df.T\n",
    "\n",
    "plt.figure(figsize=(8, 6))\n",
    "overall_sentiment_df.plot(kind='bar', colormap='viridis', alpha=0.8, width=0.7)\n",
    "\n",
    "# Add labels and title\n",
    "plt.title('Comparison of Positive, Neutral, and Negative Sentiments by Roberta and Vader')\n",
    "plt.xlabel('Sentiment Analysis Model')\n",
    "plt.ylabel('Number of Reviews')\n",
    "plt.xticks(rotation=0)  # Keep model names horizontal\n",
    "plt.legend(title='Sentiment', loc='upper right')\n",
    "plt.tight_layout()\n",
    "\n",
    "# Show the plot\n",
    "plt.show()"
   ]
  },
  {
   "cell_type": "code",
   "execution_count": null,
   "id": "00b3973b-939c-4dd7-9185-dcb7bb0513eb",
   "metadata": {},
   "outputs": [],
   "source": [
    "results_df = results_df.drop(['roberta_neg','roberta_neu','roberta_pos', 'vader_neg','vader_neu', 'vader_pos', 'vader_compound'], axis=1)"
   ]
  },
  {
   "cell_type": "code",
   "execution_count": null,
   "id": "f610b5eb-a1c4-4478-83d1-12de8b10c916",
   "metadata": {},
   "outputs": [],
   "source": [
    "df_one_hot = pd.concat([results_df, one_hot], axis=1)\n",
    "\n",
    "df_one_hot = df_one_hot.drop('max_sentiment', axis=1)\n",
    "\n",
    "df_one_hot"
   ]
  },
  {
   "cell_type": "code",
   "execution_count": null,
   "id": "6a488bca-56e1-499f-abbd-1488f429d47c",
   "metadata": {},
   "outputs": [],
   "source": [
    "df_one_hot['SentimentText'][6]"
   ]
  },
  {
   "cell_type": "code",
   "execution_count": null,
   "id": "6e56e5c6-09db-4bcf-b165-8c2fcbab83ac",
   "metadata": {},
   "outputs": [],
   "source": []
  },
  {
   "cell_type": "code",
   "execution_count": null,
   "id": "2f6f0293-3173-45fd-9fcb-4c3bfec47a00",
   "metadata": {},
   "outputs": [],
   "source": [
    "# import pickle"
   ]
  },
  {
   "cell_type": "code",
   "execution_count": null,
   "id": "b76644a9-96e8-42f0-af24-dfce4caeb2a0",
   "metadata": {},
   "outputs": [],
   "source": [
    "# with open('sentiment_analysis_model.pkl', 'wb') as file:\n",
    "#     pickle.dump(pipeline, file)"
   ]
  },
  {
   "cell_type": "code",
   "execution_count": null,
   "id": "6154b62f-c4c1-4a0f-a590-ca82c77aec8b",
   "metadata": {},
   "outputs": [],
   "source": [
    "# with open('tokenizer.pkl', 'wb') as file:\n",
    "#     pickle.dump(tokenizer, file)"
   ]
  },
  {
   "cell_type": "code",
   "execution_count": null,
   "id": "5f64c9b4-4a5e-4dac-b2bd-83fbb07f4937",
   "metadata": {},
   "outputs": [],
   "source": [
    "# model.save_pretrained('roberta_model')"
   ]
  }
 ],
 "metadata": {
  "kernelspec": {
   "display_name": "Python 3 (ipykernel)",
   "language": "python",
   "name": "python3"
  },
  "language_info": {
   "codemirror_mode": {
    "name": "ipython",
    "version": 3
   },
   "file_extension": ".py",
   "mimetype": "text/x-python",
   "name": "python",
   "nbconvert_exporter": "python",
   "pygments_lexer": "ipython3",
   "version": "3.12.2"
  }
 },
 "nbformat": 4,
 "nbformat_minor": 5
}
